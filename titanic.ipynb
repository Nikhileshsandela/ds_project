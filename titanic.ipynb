{
 "cells": [
  {
   "cell_type": "code",
   "execution_count": 1,
   "id": "37fbe83b",
   "metadata": {
    "_cell_guid": "b1076dfc-b9ad-4769-8c92-a6c4dae69d19",
    "_uuid": "8f2839f25d086af736a60e9eeb907d3b93b6e0e5",
    "execution": {
     "iopub.execute_input": "2021-08-06T22:53:58.150894Z",
     "iopub.status.busy": "2021-08-06T22:53:58.149855Z",
     "iopub.status.idle": "2021-08-06T22:53:59.460228Z",
     "shell.execute_reply": "2021-08-06T22:53:59.460768Z",
     "shell.execute_reply.started": "2021-08-06T22:45:33.170486Z"
    },
    "papermill": {
     "duration": 1.327371,
     "end_time": "2021-08-06T22:53:59.461051",
     "exception": false,
     "start_time": "2021-08-06T22:53:58.133680",
     "status": "completed"
    },
    "tags": []
   },
   "outputs": [
    {
     "name": "stdout",
     "output_type": "stream",
     "text": [
      "/kaggle/input/titanic/train.csv\n",
      "/kaggle/input/titanic/test.csv\n",
      "/kaggle/input/titanic/gender_submission.csv\n"
     ]
    }
   ],
   "source": [
    "# This Python 3 environment comes with many helpful analytics libraries installed\n",
    "# It is defined by the kaggle/python Docker image: https://github.com/kaggle/docker-python\n",
    "# For example, here's several helpful packages to load\n",
    "\n",
    "import numpy as np # linear algebra\n",
    "import pandas as pd # data processing, CSV file I/O (e.g. pd.read_csv)\n",
    "from sklearn.ensemble import RandomForestClassifier\n",
    "\n",
    "# Input data files are available in the read-only \"../input/\" directory\n",
    "# For example, running this (by clicking run or pressing Shift+Enter) will list all files under the input directory\n",
    "\n",
    "import os\n",
    "for dirname, _, filenames in os.walk('/kaggle/input'):\n",
    "    for filename in filenames:\n",
    "        print(os.path.join(dirname, filename))\n",
    "\n",
    "# You can write up to 20GB to the current directory (/kaggle/working/) that gets preserved as output when you create a version using \"Save & Run All\" \n",
    "# You can also write temporary files to /kaggle/temp/, but they won't be saved outside of the current session"
   ]
  },
  {
   "cell_type": "markdown",
   "id": "77cf66d5",
   "metadata": {
    "papermill": {
     "duration": 0.011879,
     "end_time": "2021-08-06T22:53:59.486151",
     "exception": false,
     "start_time": "2021-08-06T22:53:59.474272",
     "status": "completed"
    },
    "tags": []
   },
   "source": [
    "## Exploratory Data Analysis"
   ]
  },
  {
   "cell_type": "code",
   "execution_count": 2,
   "id": "b8057c6c",
   "metadata": {
    "execution": {
     "iopub.execute_input": "2021-08-06T22:53:59.516438Z",
     "iopub.status.busy": "2021-08-06T22:53:59.515808Z",
     "iopub.status.idle": "2021-08-06T22:53:59.533009Z",
     "shell.execute_reply": "2021-08-06T22:53:59.533516Z",
     "shell.execute_reply.started": "2021-08-06T22:23:24.169436Z"
    },
    "papermill": {
     "duration": 0.035118,
     "end_time": "2021-08-06T22:53:59.533702",
     "exception": false,
     "start_time": "2021-08-06T22:53:59.498584",
     "status": "completed"
    },
    "tags": []
   },
   "outputs": [],
   "source": [
    "train_data = pd.read_csv(\"/kaggle/input/titanic/train.csv\")"
   ]
  },
  {
   "cell_type": "code",
   "execution_count": 3,
   "id": "eec4bc10",
   "metadata": {
    "execution": {
     "iopub.execute_input": "2021-08-06T22:53:59.560674Z",
     "iopub.status.busy": "2021-08-06T22:53:59.560098Z",
     "iopub.status.idle": "2021-08-06T22:53:59.590297Z",
     "shell.execute_reply": "2021-08-06T22:53:59.590823Z",
     "shell.execute_reply.started": "2021-08-06T22:24:41.305818Z"
    },
    "papermill": {
     "duration": 0.045032,
     "end_time": "2021-08-06T22:53:59.590990",
     "exception": false,
     "start_time": "2021-08-06T22:53:59.545958",
     "status": "completed"
    },
    "tags": []
   },
   "outputs": [
    {
     "data": {
      "text/html": [
       "<div>\n",
       "<style scoped>\n",
       "    .dataframe tbody tr th:only-of-type {\n",
       "        vertical-align: middle;\n",
       "    }\n",
       "\n",
       "    .dataframe tbody tr th {\n",
       "        vertical-align: top;\n",
       "    }\n",
       "\n",
       "    .dataframe thead th {\n",
       "        text-align: right;\n",
       "    }\n",
       "</style>\n",
       "<table border=\"1\" class=\"dataframe\">\n",
       "  <thead>\n",
       "    <tr style=\"text-align: right;\">\n",
       "      <th></th>\n",
       "      <th>PassengerId</th>\n",
       "      <th>Survived</th>\n",
       "      <th>Pclass</th>\n",
       "      <th>Name</th>\n",
       "      <th>Sex</th>\n",
       "      <th>Age</th>\n",
       "      <th>SibSp</th>\n",
       "      <th>Parch</th>\n",
       "      <th>Ticket</th>\n",
       "      <th>Fare</th>\n",
       "      <th>Cabin</th>\n",
       "      <th>Embarked</th>\n",
       "    </tr>\n",
       "  </thead>\n",
       "  <tbody>\n",
       "    <tr>\n",
       "      <th>0</th>\n",
       "      <td>1</td>\n",
       "      <td>0</td>\n",
       "      <td>3</td>\n",
       "      <td>Braund, Mr. Owen Harris</td>\n",
       "      <td>male</td>\n",
       "      <td>22.0</td>\n",
       "      <td>1</td>\n",
       "      <td>0</td>\n",
       "      <td>A/5 21171</td>\n",
       "      <td>7.2500</td>\n",
       "      <td>NaN</td>\n",
       "      <td>S</td>\n",
       "    </tr>\n",
       "    <tr>\n",
       "      <th>1</th>\n",
       "      <td>2</td>\n",
       "      <td>1</td>\n",
       "      <td>1</td>\n",
       "      <td>Cumings, Mrs. John Bradley (Florence Briggs Th...</td>\n",
       "      <td>female</td>\n",
       "      <td>38.0</td>\n",
       "      <td>1</td>\n",
       "      <td>0</td>\n",
       "      <td>PC 17599</td>\n",
       "      <td>71.2833</td>\n",
       "      <td>C85</td>\n",
       "      <td>C</td>\n",
       "    </tr>\n",
       "    <tr>\n",
       "      <th>2</th>\n",
       "      <td>3</td>\n",
       "      <td>1</td>\n",
       "      <td>3</td>\n",
       "      <td>Heikkinen, Miss. Laina</td>\n",
       "      <td>female</td>\n",
       "      <td>26.0</td>\n",
       "      <td>0</td>\n",
       "      <td>0</td>\n",
       "      <td>STON/O2. 3101282</td>\n",
       "      <td>7.9250</td>\n",
       "      <td>NaN</td>\n",
       "      <td>S</td>\n",
       "    </tr>\n",
       "    <tr>\n",
       "      <th>3</th>\n",
       "      <td>4</td>\n",
       "      <td>1</td>\n",
       "      <td>1</td>\n",
       "      <td>Futrelle, Mrs. Jacques Heath (Lily May Peel)</td>\n",
       "      <td>female</td>\n",
       "      <td>35.0</td>\n",
       "      <td>1</td>\n",
       "      <td>0</td>\n",
       "      <td>113803</td>\n",
       "      <td>53.1000</td>\n",
       "      <td>C123</td>\n",
       "      <td>S</td>\n",
       "    </tr>\n",
       "    <tr>\n",
       "      <th>4</th>\n",
       "      <td>5</td>\n",
       "      <td>0</td>\n",
       "      <td>3</td>\n",
       "      <td>Allen, Mr. William Henry</td>\n",
       "      <td>male</td>\n",
       "      <td>35.0</td>\n",
       "      <td>0</td>\n",
       "      <td>0</td>\n",
       "      <td>373450</td>\n",
       "      <td>8.0500</td>\n",
       "      <td>NaN</td>\n",
       "      <td>S</td>\n",
       "    </tr>\n",
       "  </tbody>\n",
       "</table>\n",
       "</div>"
      ],
      "text/plain": [
       "   PassengerId  Survived  Pclass  \\\n",
       "0            1         0       3   \n",
       "1            2         1       1   \n",
       "2            3         1       3   \n",
       "3            4         1       1   \n",
       "4            5         0       3   \n",
       "\n",
       "                                                Name     Sex   Age  SibSp  \\\n",
       "0                            Braund, Mr. Owen Harris    male  22.0      1   \n",
       "1  Cumings, Mrs. John Bradley (Florence Briggs Th...  female  38.0      1   \n",
       "2                             Heikkinen, Miss. Laina  female  26.0      0   \n",
       "3       Futrelle, Mrs. Jacques Heath (Lily May Peel)  female  35.0      1   \n",
       "4                           Allen, Mr. William Henry    male  35.0      0   \n",
       "\n",
       "   Parch            Ticket     Fare Cabin Embarked  \n",
       "0      0         A/5 21171   7.2500   NaN        S  \n",
       "1      0          PC 17599  71.2833   C85        C  \n",
       "2      0  STON/O2. 3101282   7.9250   NaN        S  \n",
       "3      0            113803  53.1000  C123        S  \n",
       "4      0            373450   8.0500   NaN        S  "
      ]
     },
     "execution_count": 3,
     "metadata": {},
     "output_type": "execute_result"
    }
   ],
   "source": [
    "train_data.head()"
   ]
  },
  {
   "cell_type": "code",
   "execution_count": 4,
   "id": "b501f5b7",
   "metadata": {
    "execution": {
     "iopub.execute_input": "2021-08-06T22:53:59.619897Z",
     "iopub.status.busy": "2021-08-06T22:53:59.619263Z",
     "iopub.status.idle": "2021-08-06T22:53:59.633528Z",
     "shell.execute_reply": "2021-08-06T22:53:59.634009Z",
     "shell.execute_reply.started": "2021-08-06T22:27:53.959352Z"
    },
    "papermill": {
     "duration": 0.030292,
     "end_time": "2021-08-06T22:53:59.634179",
     "exception": false,
     "start_time": "2021-08-06T22:53:59.603887",
     "status": "completed"
    },
    "tags": []
   },
   "outputs": [],
   "source": [
    "test_data = pd.read_csv(\"/kaggle/input/titanic/test.csv\")"
   ]
  },
  {
   "cell_type": "code",
   "execution_count": 5,
   "id": "2126c7b8",
   "metadata": {
    "execution": {
     "iopub.execute_input": "2021-08-06T22:53:59.662714Z",
     "iopub.status.busy": "2021-08-06T22:53:59.662002Z",
     "iopub.status.idle": "2021-08-06T22:53:59.681162Z",
     "shell.execute_reply": "2021-08-06T22:53:59.681950Z",
     "shell.execute_reply.started": "2021-08-06T22:28:05.487006Z"
    },
    "papermill": {
     "duration": 0.03532,
     "end_time": "2021-08-06T22:53:59.682275",
     "exception": false,
     "start_time": "2021-08-06T22:53:59.646955",
     "status": "completed"
    },
    "tags": []
   },
   "outputs": [
    {
     "data": {
      "text/html": [
       "<div>\n",
       "<style scoped>\n",
       "    .dataframe tbody tr th:only-of-type {\n",
       "        vertical-align: middle;\n",
       "    }\n",
       "\n",
       "    .dataframe tbody tr th {\n",
       "        vertical-align: top;\n",
       "    }\n",
       "\n",
       "    .dataframe thead th {\n",
       "        text-align: right;\n",
       "    }\n",
       "</style>\n",
       "<table border=\"1\" class=\"dataframe\">\n",
       "  <thead>\n",
       "    <tr style=\"text-align: right;\">\n",
       "      <th></th>\n",
       "      <th>PassengerId</th>\n",
       "      <th>Pclass</th>\n",
       "      <th>Name</th>\n",
       "      <th>Sex</th>\n",
       "      <th>Age</th>\n",
       "      <th>SibSp</th>\n",
       "      <th>Parch</th>\n",
       "      <th>Ticket</th>\n",
       "      <th>Fare</th>\n",
       "      <th>Cabin</th>\n",
       "      <th>Embarked</th>\n",
       "    </tr>\n",
       "  </thead>\n",
       "  <tbody>\n",
       "    <tr>\n",
       "      <th>0</th>\n",
       "      <td>892</td>\n",
       "      <td>3</td>\n",
       "      <td>Kelly, Mr. James</td>\n",
       "      <td>male</td>\n",
       "      <td>34.5</td>\n",
       "      <td>0</td>\n",
       "      <td>0</td>\n",
       "      <td>330911</td>\n",
       "      <td>7.8292</td>\n",
       "      <td>NaN</td>\n",
       "      <td>Q</td>\n",
       "    </tr>\n",
       "    <tr>\n",
       "      <th>1</th>\n",
       "      <td>893</td>\n",
       "      <td>3</td>\n",
       "      <td>Wilkes, Mrs. James (Ellen Needs)</td>\n",
       "      <td>female</td>\n",
       "      <td>47.0</td>\n",
       "      <td>1</td>\n",
       "      <td>0</td>\n",
       "      <td>363272</td>\n",
       "      <td>7.0000</td>\n",
       "      <td>NaN</td>\n",
       "      <td>S</td>\n",
       "    </tr>\n",
       "    <tr>\n",
       "      <th>2</th>\n",
       "      <td>894</td>\n",
       "      <td>2</td>\n",
       "      <td>Myles, Mr. Thomas Francis</td>\n",
       "      <td>male</td>\n",
       "      <td>62.0</td>\n",
       "      <td>0</td>\n",
       "      <td>0</td>\n",
       "      <td>240276</td>\n",
       "      <td>9.6875</td>\n",
       "      <td>NaN</td>\n",
       "      <td>Q</td>\n",
       "    </tr>\n",
       "    <tr>\n",
       "      <th>3</th>\n",
       "      <td>895</td>\n",
       "      <td>3</td>\n",
       "      <td>Wirz, Mr. Albert</td>\n",
       "      <td>male</td>\n",
       "      <td>27.0</td>\n",
       "      <td>0</td>\n",
       "      <td>0</td>\n",
       "      <td>315154</td>\n",
       "      <td>8.6625</td>\n",
       "      <td>NaN</td>\n",
       "      <td>S</td>\n",
       "    </tr>\n",
       "    <tr>\n",
       "      <th>4</th>\n",
       "      <td>896</td>\n",
       "      <td>3</td>\n",
       "      <td>Hirvonen, Mrs. Alexander (Helga E Lindqvist)</td>\n",
       "      <td>female</td>\n",
       "      <td>22.0</td>\n",
       "      <td>1</td>\n",
       "      <td>1</td>\n",
       "      <td>3101298</td>\n",
       "      <td>12.2875</td>\n",
       "      <td>NaN</td>\n",
       "      <td>S</td>\n",
       "    </tr>\n",
       "  </tbody>\n",
       "</table>\n",
       "</div>"
      ],
      "text/plain": [
       "   PassengerId  Pclass                                          Name     Sex  \\\n",
       "0          892       3                              Kelly, Mr. James    male   \n",
       "1          893       3              Wilkes, Mrs. James (Ellen Needs)  female   \n",
       "2          894       2                     Myles, Mr. Thomas Francis    male   \n",
       "3          895       3                              Wirz, Mr. Albert    male   \n",
       "4          896       3  Hirvonen, Mrs. Alexander (Helga E Lindqvist)  female   \n",
       "\n",
       "    Age  SibSp  Parch   Ticket     Fare Cabin Embarked  \n",
       "0  34.5      0      0   330911   7.8292   NaN        Q  \n",
       "1  47.0      1      0   363272   7.0000   NaN        S  \n",
       "2  62.0      0      0   240276   9.6875   NaN        Q  \n",
       "3  27.0      0      0   315154   8.6625   NaN        S  \n",
       "4  22.0      1      1  3101298  12.2875   NaN        S  "
      ]
     },
     "execution_count": 5,
     "metadata": {},
     "output_type": "execute_result"
    }
   ],
   "source": [
    "test_data.head()"
   ]
  },
  {
   "cell_type": "code",
   "execution_count": 6,
   "id": "dab8ab78",
   "metadata": {
    "execution": {
     "iopub.execute_input": "2021-08-06T22:53:59.726855Z",
     "iopub.status.busy": "2021-08-06T22:53:59.725687Z",
     "iopub.status.idle": "2021-08-06T22:53:59.727764Z",
     "shell.execute_reply": "2021-08-06T22:53:59.728255Z",
     "shell.execute_reply.started": "2021-08-06T22:31:41.118778Z"
    },
    "papermill": {
     "duration": 0.027374,
     "end_time": "2021-08-06T22:53:59.728473",
     "exception": false,
     "start_time": "2021-08-06T22:53:59.701099",
     "status": "completed"
    },
    "tags": []
   },
   "outputs": [],
   "source": [
    "women = train_data.loc[train_data.Sex == 'female'][\"Survived\"]\n",
    "# rate_women = sum(women)/len(women)\n",
    "\n",
    "# print(\"% of women who survived:\", rate_women)"
   ]
  },
  {
   "cell_type": "code",
   "execution_count": 7,
   "id": "509e3162",
   "metadata": {
    "execution": {
     "iopub.execute_input": "2021-08-06T22:53:59.758421Z",
     "iopub.status.busy": "2021-08-06T22:53:59.757488Z",
     "iopub.status.idle": "2021-08-06T22:53:59.761476Z",
     "shell.execute_reply": "2021-08-06T22:53:59.761967Z",
     "shell.execute_reply.started": "2021-08-06T22:32:48.322259Z"
    },
    "papermill": {
     "duration": 0.020284,
     "end_time": "2021-08-06T22:53:59.762131",
     "exception": false,
     "start_time": "2021-08-06T22:53:59.741847",
     "status": "completed"
    },
    "tags": []
   },
   "outputs": [],
   "source": [
    "rate_women = sum(women) / len(women)"
   ]
  },
  {
   "cell_type": "markdown",
   "id": "3f004f60",
   "metadata": {
    "papermill": {
     "duration": 0.012768,
     "end_time": "2021-08-06T22:53:59.790544",
     "exception": false,
     "start_time": "2021-08-06T22:53:59.777776",
     "status": "completed"
    },
    "tags": []
   },
   "source": [
    "### Alternate approach"
   ]
  },
  {
   "cell_type": "code",
   "execution_count": 8,
   "id": "f4295f73",
   "metadata": {
    "execution": {
     "iopub.execute_input": "2021-08-06T22:53:59.820166Z",
     "iopub.status.busy": "2021-08-06T22:53:59.819248Z",
     "iopub.status.idle": "2021-08-06T22:53:59.824603Z",
     "shell.execute_reply": "2021-08-06T22:53:59.825126Z",
     "shell.execute_reply.started": "2021-08-06T22:34:27.850201Z"
    },
    "papermill": {
     "duration": 0.021477,
     "end_time": "2021-08-06T22:53:59.825286",
     "exception": false,
     "start_time": "2021-08-06T22:53:59.803809",
     "status": "completed"
    },
    "tags": []
   },
   "outputs": [],
   "source": [
    "women = train_data[train_data.Sex=='female'].Survived\n",
    "rate_women = sum(women) / len(women)"
   ]
  },
  {
   "cell_type": "code",
   "execution_count": 9,
   "id": "30af8b23",
   "metadata": {
    "execution": {
     "iopub.execute_input": "2021-08-06T22:53:59.856957Z",
     "iopub.status.busy": "2021-08-06T22:53:59.856029Z",
     "iopub.status.idle": "2021-08-06T22:53:59.860704Z",
     "shell.execute_reply": "2021-08-06T22:53:59.860216Z",
     "shell.execute_reply.started": "2021-08-06T22:36:35.64557Z"
    },
    "papermill": {
     "duration": 0.022614,
     "end_time": "2021-08-06T22:53:59.860844",
     "exception": false,
     "start_time": "2021-08-06T22:53:59.838230",
     "status": "completed"
    },
    "tags": []
   },
   "outputs": [],
   "source": [
    "men = train_data[train_data.Sex=='male'].Survived\n",
    "rate_men = sum(men) / len(men)"
   ]
  },
  {
   "cell_type": "code",
   "execution_count": 10,
   "id": "0ab93e9d",
   "metadata": {
    "execution": {
     "iopub.execute_input": "2021-08-06T22:53:59.891420Z",
     "iopub.status.busy": "2021-08-06T22:53:59.890796Z",
     "iopub.status.idle": "2021-08-06T22:53:59.894095Z",
     "shell.execute_reply": "2021-08-06T22:53:59.893512Z",
     "shell.execute_reply.started": "2021-08-06T22:37:26.591281Z"
    },
    "papermill": {
     "duration": 0.020291,
     "end_time": "2021-08-06T22:53:59.894231",
     "exception": false,
     "start_time": "2021-08-06T22:53:59.873940",
     "status": "completed"
    },
    "tags": []
   },
   "outputs": [
    {
     "name": "stdout",
     "output_type": "stream",
     "text": [
      "% of women who survived: 0.7420382165605095\n",
      "% of men who survived: 0.18890814558058924\n"
     ]
    }
   ],
   "source": [
    "print(\"% of women who survived:\", rate_women)\n",
    "print(\"% of men who survived:\", rate_men)"
   ]
  },
  {
   "cell_type": "code",
   "execution_count": 11,
   "id": "4c5483da",
   "metadata": {
    "execution": {
     "iopub.execute_input": "2021-08-06T22:53:59.924044Z",
     "iopub.status.busy": "2021-08-06T22:53:59.923507Z",
     "iopub.status.idle": "2021-08-06T22:53:59.927225Z",
     "shell.execute_reply": "2021-08-06T22:53:59.927707Z",
     "shell.execute_reply.started": "2021-08-06T22:46:06.054951Z"
    },
    "papermill": {
     "duration": 0.020193,
     "end_time": "2021-08-06T22:53:59.927869",
     "exception": false,
     "start_time": "2021-08-06T22:53:59.907676",
     "status": "completed"
    },
    "tags": []
   },
   "outputs": [],
   "source": [
    "target = train_data[\"Survived\"]"
   ]
  },
  {
   "cell_type": "markdown",
   "id": "af247fdf",
   "metadata": {
    "papermill": {
     "duration": 0.013362,
     "end_time": "2021-08-06T22:53:59.955368",
     "exception": false,
     "start_time": "2021-08-06T22:53:59.942006",
     "status": "completed"
    },
    "tags": []
   },
   "source": [
    "### Training Data"
   ]
  },
  {
   "cell_type": "code",
   "execution_count": 12,
   "id": "5fcb3377",
   "metadata": {
    "execution": {
     "iopub.execute_input": "2021-08-06T22:53:59.986885Z",
     "iopub.status.busy": "2021-08-06T22:53:59.985969Z",
     "iopub.status.idle": "2021-08-06T22:53:59.990721Z",
     "shell.execute_reply": "2021-08-06T22:53:59.990137Z",
     "shell.execute_reply.started": "2021-08-06T22:47:36.128786Z"
    },
    "papermill": {
     "duration": 0.021043,
     "end_time": "2021-08-06T22:53:59.990855",
     "exception": false,
     "start_time": "2021-08-06T22:53:59.969812",
     "status": "completed"
    },
    "tags": []
   },
   "outputs": [],
   "source": [
    "features = [\"Pclass\", \"Sex\", \"SibSp\", \"Parch\"]"
   ]
  },
  {
   "cell_type": "code",
   "execution_count": 13,
   "id": "86b162bd",
   "metadata": {
    "execution": {
     "iopub.execute_input": "2021-08-06T22:54:00.028809Z",
     "iopub.status.busy": "2021-08-06T22:54:00.028149Z",
     "iopub.status.idle": "2021-08-06T22:54:00.040531Z",
     "shell.execute_reply": "2021-08-06T22:54:00.040960Z",
     "shell.execute_reply.started": "2021-08-06T22:49:47.939707Z"
    },
    "papermill": {
     "duration": 0.036371,
     "end_time": "2021-08-06T22:54:00.041161",
     "exception": false,
     "start_time": "2021-08-06T22:54:00.004790",
     "status": "completed"
    },
    "tags": []
   },
   "outputs": [],
   "source": [
    "X = pd.get_dummies(train_data[features])\n",
    "X_test = pd.get_dummies(test_data[features])"
   ]
  },
  {
   "cell_type": "code",
   "execution_count": 14,
   "id": "f344bf49",
   "metadata": {
    "execution": {
     "iopub.execute_input": "2021-08-06T22:54:00.080642Z",
     "iopub.status.busy": "2021-08-06T22:54:00.074938Z",
     "iopub.status.idle": "2021-08-06T22:54:00.243991Z",
     "shell.execute_reply": "2021-08-06T22:54:00.243441Z",
     "shell.execute_reply.started": "2021-08-06T22:51:14.999813Z"
    },
    "papermill": {
     "duration": 0.189052,
     "end_time": "2021-08-06T22:54:00.244188",
     "exception": false,
     "start_time": "2021-08-06T22:54:00.055136",
     "status": "completed"
    },
    "tags": []
   },
   "outputs": [],
   "source": [
    "model = RandomForestClassifier(n_estimators=100, max_depth=5, random_state=1)\n",
    "model.fit(X, target)\n",
    "predictions = model.predict(X_test)"
   ]
  },
  {
   "cell_type": "code",
   "execution_count": 15,
   "id": "e426aed9",
   "metadata": {
    "execution": {
     "iopub.execute_input": "2021-08-06T22:54:00.276981Z",
     "iopub.status.busy": "2021-08-06T22:54:00.276358Z",
     "iopub.status.idle": "2021-08-06T22:54:00.280054Z",
     "shell.execute_reply": "2021-08-06T22:54:00.280523Z",
     "shell.execute_reply.started": "2021-08-06T22:51:38.160998Z"
    },
    "papermill": {
     "duration": 0.022876,
     "end_time": "2021-08-06T22:54:00.280693",
     "exception": false,
     "start_time": "2021-08-06T22:54:00.257817",
     "status": "completed"
    },
    "tags": []
   },
   "outputs": [
    {
     "data": {
      "text/plain": [
       "array([0, 1, 0, 0, 1, 0, 1, 0, 1, 0, 0, 0, 1, 0, 1, 1, 0, 0, 1, 1, 0, 0,\n",
       "       1, 0, 1, 0, 1, 0, 0, 0, 0, 0, 0, 0, 0, 0, 1, 1, 0, 0, 0, 0, 0, 1,\n",
       "       1, 0, 0, 0, 1, 1, 0, 0, 1, 1, 0, 0, 0, 0, 0, 1, 0, 0, 0, 1, 1, 1,\n",
       "       1, 0, 0, 1, 1, 0, 1, 0, 1, 0, 0, 1, 0, 1, 0, 0, 0, 0, 0, 0, 1, 1,\n",
       "       1, 0, 1, 0, 1, 0, 0, 0, 1, 0, 1, 0, 1, 0, 0, 0, 1, 0, 0, 0, 0, 0,\n",
       "       0, 1, 1, 1, 1, 0, 0, 1, 0, 1, 1, 0, 1, 0, 0, 1, 0, 1, 0, 0, 0, 0,\n",
       "       0, 0, 0, 0, 0, 0, 1, 0, 0, 1, 1, 0, 0, 0, 0, 0, 0, 0, 1, 0, 0, 1,\n",
       "       0, 0, 1, 1, 0, 1, 1, 0, 1, 0, 0, 1, 0, 0, 1, 1, 0, 0, 0, 0, 0, 1,\n",
       "       1, 0, 1, 1, 0, 0, 1, 0, 1, 0, 1, 0, 0, 0, 0, 0, 0, 0, 1, 0, 0, 1,\n",
       "       0, 1, 1, 0, 0, 1, 0, 0, 1, 0, 1, 0, 0, 0, 0, 1, 0, 0, 1, 0, 1, 0,\n",
       "       1, 0, 1, 0, 1, 1, 0, 1, 0, 0, 0, 1, 0, 0, 0, 0, 0, 0, 1, 1, 1, 1,\n",
       "       0, 0, 0, 0, 1, 0, 1, 1, 1, 0, 0, 0, 0, 0, 0, 0, 1, 0, 0, 0, 1, 1,\n",
       "       0, 0, 0, 0, 1, 0, 0, 0, 1, 1, 0, 1, 0, 0, 0, 0, 1, 0, 1, 1, 1, 0,\n",
       "       0, 0, 0, 0, 0, 1, 0, 0, 0, 0, 1, 0, 0, 0, 0, 0, 0, 0, 1, 1, 1, 0,\n",
       "       0, 1, 0, 0, 0, 1, 1, 1, 0, 0, 0, 0, 0, 0, 0, 0, 1, 0, 1, 0, 0, 0,\n",
       "       1, 0, 0, 1, 0, 0, 0, 0, 0, 0, 0, 0, 0, 1, 0, 1, 0, 1, 0, 1, 1, 0,\n",
       "       0, 0, 0, 0, 1, 0, 0, 1, 0, 1, 1, 0, 1, 0, 0, 1, 1, 0, 0, 1, 0, 0,\n",
       "       1, 1, 1, 0, 0, 0, 0, 0, 1, 1, 0, 1, 0, 0, 0, 0, 0, 1, 0, 0, 0, 1,\n",
       "       0, 1, 0, 0, 1, 0, 1, 0, 0, 0, 0, 0, 1, 1, 1, 1, 1, 0, 1, 0, 0, 0])"
      ]
     },
     "execution_count": 15,
     "metadata": {},
     "output_type": "execute_result"
    }
   ],
   "source": [
    "predictions"
   ]
  },
  {
   "cell_type": "code",
   "execution_count": 16,
   "id": "b89b8f67",
   "metadata": {
    "execution": {
     "iopub.execute_input": "2021-08-06T22:54:00.314445Z",
     "iopub.status.busy": "2021-08-06T22:54:00.313791Z",
     "iopub.status.idle": "2021-08-06T22:54:00.321684Z",
     "shell.execute_reply": "2021-08-06T22:54:00.322129Z",
     "shell.execute_reply.started": "2021-08-06T22:53:03.082093Z"
    },
    "papermill": {
     "duration": 0.028018,
     "end_time": "2021-08-06T22:54:00.322299",
     "exception": false,
     "start_time": "2021-08-06T22:54:00.294281",
     "status": "completed"
    },
    "tags": []
   },
   "outputs": [
    {
     "name": "stdout",
     "output_type": "stream",
     "text": [
      "Your submission was successfully saved!\n"
     ]
    }
   ],
   "source": [
    "output = pd.DataFrame({'PassengerId': test_data.PassengerId, 'Survived': predictions})\n",
    "output.to_csv('my_submission.csv', index=False)\n",
    "print(\"Your submission was successfully saved!\")"
   ]
  },
  {
   "cell_type": "code",
   "execution_count": 17,
   "id": "170c521c",
   "metadata": {
    "execution": {
     "iopub.execute_input": "2021-08-06T22:54:00.359591Z",
     "iopub.status.busy": "2021-08-06T22:54:00.358959Z",
     "iopub.status.idle": "2021-08-06T22:54:00.363142Z",
     "shell.execute_reply": "2021-08-06T22:54:00.362715Z",
     "shell.execute_reply.started": "2021-08-06T22:53:05.270186Z"
    },
    "papermill": {
     "duration": 0.026941,
     "end_time": "2021-08-06T22:54:00.363284",
     "exception": false,
     "start_time": "2021-08-06T22:54:00.336343",
     "status": "completed"
    },
    "tags": []
   },
   "outputs": [
    {
     "data": {
      "text/html": [
       "<div>\n",
       "<style scoped>\n",
       "    .dataframe tbody tr th:only-of-type {\n",
       "        vertical-align: middle;\n",
       "    }\n",
       "\n",
       "    .dataframe tbody tr th {\n",
       "        vertical-align: top;\n",
       "    }\n",
       "\n",
       "    .dataframe thead th {\n",
       "        text-align: right;\n",
       "    }\n",
       "</style>\n",
       "<table border=\"1\" class=\"dataframe\">\n",
       "  <thead>\n",
       "    <tr style=\"text-align: right;\">\n",
       "      <th></th>\n",
       "      <th>PassengerId</th>\n",
       "      <th>Survived</th>\n",
       "    </tr>\n",
       "  </thead>\n",
       "  <tbody>\n",
       "    <tr>\n",
       "      <th>0</th>\n",
       "      <td>892</td>\n",
       "      <td>0</td>\n",
       "    </tr>\n",
       "    <tr>\n",
       "      <th>1</th>\n",
       "      <td>893</td>\n",
       "      <td>1</td>\n",
       "    </tr>\n",
       "    <tr>\n",
       "      <th>2</th>\n",
       "      <td>894</td>\n",
       "      <td>0</td>\n",
       "    </tr>\n",
       "    <tr>\n",
       "      <th>3</th>\n",
       "      <td>895</td>\n",
       "      <td>0</td>\n",
       "    </tr>\n",
       "    <tr>\n",
       "      <th>4</th>\n",
       "      <td>896</td>\n",
       "      <td>1</td>\n",
       "    </tr>\n",
       "    <tr>\n",
       "      <th>...</th>\n",
       "      <td>...</td>\n",
       "      <td>...</td>\n",
       "    </tr>\n",
       "    <tr>\n",
       "      <th>413</th>\n",
       "      <td>1305</td>\n",
       "      <td>0</td>\n",
       "    </tr>\n",
       "    <tr>\n",
       "      <th>414</th>\n",
       "      <td>1306</td>\n",
       "      <td>1</td>\n",
       "    </tr>\n",
       "    <tr>\n",
       "      <th>415</th>\n",
       "      <td>1307</td>\n",
       "      <td>0</td>\n",
       "    </tr>\n",
       "    <tr>\n",
       "      <th>416</th>\n",
       "      <td>1308</td>\n",
       "      <td>0</td>\n",
       "    </tr>\n",
       "    <tr>\n",
       "      <th>417</th>\n",
       "      <td>1309</td>\n",
       "      <td>0</td>\n",
       "    </tr>\n",
       "  </tbody>\n",
       "</table>\n",
       "<p>418 rows × 2 columns</p>\n",
       "</div>"
      ],
      "text/plain": [
       "     PassengerId  Survived\n",
       "0            892         0\n",
       "1            893         1\n",
       "2            894         0\n",
       "3            895         0\n",
       "4            896         1\n",
       "..           ...       ...\n",
       "413         1305         0\n",
       "414         1306         1\n",
       "415         1307         0\n",
       "416         1308         0\n",
       "417         1309         0\n",
       "\n",
       "[418 rows x 2 columns]"
      ]
     },
     "execution_count": 17,
     "metadata": {},
     "output_type": "execute_result"
    }
   ],
   "source": [
    "output"
   ]
  }
 ],
 "metadata": {
  "kernelspec": {
   "display_name": "Python 3",
   "language": "python",
   "name": "python3"
  },
  "language_info": {
   "codemirror_mode": {
    "name": "ipython",
    "version": 3
   },
   "file_extension": ".py",
   "mimetype": "text/x-python",
   "name": "python",
   "nbconvert_exporter": "python",
   "pygments_lexer": "ipython3",
   "version": "3.7.10"
  },
  "papermill": {
   "default_parameters": {},
   "duration": 10.830564,
   "end_time": "2021-08-06T22:54:01.617715",
   "environment_variables": {},
   "exception": null,
   "input_path": "__notebook__.ipynb",
   "output_path": "__notebook__.ipynb",
   "parameters": {},
   "start_time": "2021-08-06T22:53:50.787151",
   "version": "2.3.3"
  }
 },
 "nbformat": 4,
 "nbformat_minor": 5
}

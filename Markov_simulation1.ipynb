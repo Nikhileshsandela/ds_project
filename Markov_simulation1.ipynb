{
  "nbformat": 4,
  "nbformat_minor": 0,
  "metadata": {
    "colab": {
      "provenance": [],
      "collapsed_sections": [],
      "authorship_tag": "ABX9TyN+VE5ccJMV48PZzpcrUxBU",
      "include_colab_link": true
    },
    "kernelspec": {
      "name": "python3",
      "display_name": "Python 3"
    },
    "language_info": {
      "name": "python"
    }
  },
  "cells": [
    {
      "cell_type": "markdown",
      "metadata": {
        "id": "view-in-github",
        "colab_type": "text"
      },
      "source": [
        "<a href=\"https://colab.research.google.com/github/Nikhileshsandela/ds_project/blob/master/Markov_simulation1.ipynb\" target=\"_parent\"><img src=\"https://colab.research.google.com/assets/colab-badge.svg\" alt=\"Open In Colab\"/></a>"
      ]
    },
    {
      "cell_type": "code",
      "execution_count": null,
      "metadata": {
        "id": "xnl5Ovwh7yQ4"
      },
      "outputs": [],
      "source": [
        "%matplotlib notebook\n",
        "%matplotlib inline\n",
        "import numpy as np\n",
        "import matplotlib.pyplot as plt\n",
        "import scipy.sparse.linalg as sla"
      ]
    },
    {
      "cell_type": "code",
      "source": [
        "import numpy as np\n",
        "from discreteMarkovChain import markovChain"
      ],
      "metadata": {
        "id": "2K_BJA_06A3D"
      },
      "execution_count": null,
      "outputs": []
    },
    {
      "cell_type": "code",
      "source": [
        "P = np.array([[0.5,0.5],[0.6,0.4]])\n",
        "mc = markovChain(P)\n",
        "mc.computePi('linear')\n",
        "print(mc.pi)"
      ],
      "metadata": {
        "id": "Bsh1WYaj6FVx"
      },
      "execution_count": null,
      "outputs": []
    },
    {
      "cell_type": "code",
      "source": [
        "class randomWalk(markovChain):\n",
        "\n",
        "    def __init__(self,m,M):\n",
        "        super(randomWalk, self).__init__()\n",
        "        self.initialState = m\n",
        "        self.m = m\n",
        "        self.M = M\n",
        "        self.uprate = 1.0\n",
        "        self.downrate = 1.0\n",
        "\n",
        "    def transition(self,state):\n",
        "        rates = {}\n",
        "        if self.m < state < self.M:\n",
        "            rates[state+1] = self.uprate\n",
        "            rates[state-1] = self.downrate\n",
        "        elif state == self.m:\n",
        "            rates[state+1] = self.uprate\n",
        "        elif state == self.M:\n",
        "            rates[state-1] = self.downrate\n",
        "        return rates"
      ],
      "metadata": {
        "id": "UdKuGLLu6HwQ"
      },
      "execution_count": null,
      "outputs": []
    },
    {
      "cell_type": "code",
      "source": [
        "mc = randomWalk(0,5)\n",
        "mc.computePi()\n",
        "mc.printPi()"
      ],
      "metadata": {
        "id": "fz8_loTo6N3_"
      },
      "execution_count": null,
      "outputs": []
    },
    {
      "cell_type": "code",
      "source": [
        "from scipy.linalg import solve"
      ],
      "metadata": {
        "id": "HfFQwYXv6evO"
      },
      "execution_count": null,
      "outputs": []
    },
    {
      "cell_type": "code",
      "source": [
        "def GaussSeidel(A,B,x,n):\n",
        "  L= np.tril(A)\n",
        "  U=A-L\n",
        "  for i in range(n):\n",
        "    x = np.dot(np.linalg.inv(L),B-np.dot(U,x))\n",
        "    print(x)\n",
        "  return x"
      ],
      "metadata": {
        "id": "2PlS0lmX6cPR"
      },
      "execution_count": null,
      "outputs": []
    },
    {
      "cell_type": "code",
      "source": [
        "A = eval(input('Enter the matrix A: '))\n",
        "B = eval(input('Enter the matrix B: '))\n",
        "x = eval(input('Enter the guess of x: '))\n",
        "n = eval(input('Enter the number of iterations: '))\n",
        "x = GaussSeidel(A,B,x,n)\n",
        "print('Solution using the solve syntax: \\n', solve(A,B))"
      ],
      "metadata": {
        "id": "xlpqVMsn6iVt"
      },
      "execution_count": null,
      "outputs": []
    },
    {
      "cell_type": "code",
      "source": [
        "plt.rcParams['figure.figsize'] = [10, 6]\n",
        "np.random.seed(42)"
      ],
      "metadata": {
        "id": "jSVOmN3-6vmk"
      },
      "execution_count": null,
      "outputs": []
    },
    {
      "cell_type": "code",
      "source": [
        "transition_matrix = np.array([[0.2, 0.7, 0.1, 0.0],\n",
        "                              [0.9, 0.0, 0.1, 0.0],\n",
        "                              [0.2, 0.8, 0.0, 0.0],\n",
        "                              [0.4, 0.5, 0.3, 0.0]])"
      ],
      "metadata": {
        "id": "2TAy7gtl6tFf"
      },
      "execution_count": null,
      "outputs": []
    },
    {
      "cell_type": "code",
      "source": [
        "n_steps = 10**5\n",
        "states = [0]\n",
        "for i in range(n_steps):\n",
        "    states.append(np.random.choice((0, 1, 2, 3), p=transition_matrix[states[-1]]))\n",
        "states = np.array(states)"
      ],
      "metadata": {
        "id": "2esHnOE26ycq"
      },
      "execution_count": null,
      "outputs": []
    },
    {
      "cell_type": "code",
      "source": [
        "def despine(ax, spines=('top', 'left', 'right')):\n",
        "    for spine in spines:\n",
        "        ax.spines[spine].set_visible(False)\n",
        "\n",
        "fig, ax = plt.subplots()\n",
        "width = 1000\n",
        "offsets = range(1, n_steps, 5)\n",
        "for i, label in enumerate(state_space):\n",
        "    ax.plot(offsets, [np.sum(states[:offset] == i) / offset\n",
        "            for offset in offsets], label=label)\n",
        "ax.set_xlabel(\"number of steps\")\n",
        "ax.set_ylabel(\"Probability\")\n",
        "ax.legend(frameon=False)\n",
        "despine(ax, ('top', 'right'))\n",
        "plt.show()"
      ],
      "metadata": {
        "id": "bzccY9P861BQ"
      },
      "execution_count": null,
      "outputs": []
    },
    {
      "cell_type": "markdown",
      "source": [
        "# Left Eigen Vector Method"
      ],
      "metadata": {
        "id": "hd8M2k_c66ny"
      }
    },
    {
      "cell_type": "code",
      "source": [
        "state = {\n",
        "    1 : \"Up\",\n",
        "    2 : \"Failed\",\n",
        "    3 : \"Degraded\",\n",
        "    4 : \"Critical\"\n",
        "}\n",
        "state"
      ],
      "metadata": {
        "colab": {
          "base_uri": "https://localhost:8080/"
        },
        "id": "1SsSn6PI8J26",
        "outputId": "957684ed-1fb7-41cc-dfa0-efecfff63b1c"
      },
      "execution_count": null,
      "outputs": [
        {
          "output_type": "execute_result",
          "data": {
            "text/plain": [
              "{1: 'Up', 2: 'Failed', 3: 'Degraded', 4: 'Critical'}"
            ]
          },
          "metadata": {},
          "execution_count": 2
        }
      ]
    },
    {
      "cell_type": "code",
      "source": [
        "lambda1 = 0.0001\n",
        "mu1 = 0.001"
      ],
      "metadata": {
        "id": "7xM7boe38Rkq"
      },
      "execution_count": null,
      "outputs": []
    },
    {
      "cell_type": "code",
      "source": [
        "M = np.array([-3*lambda1, mu1, 0, 0, mu1, -(mu1+2*lambda1), 2*lambda1, 0, 0, 2*mu1, -(2*mu1+lambda1), lambda1, 0, 0, 3*mu1, -3*mu1]).reshape(4,4)\n",
        "M"
      ],
      "metadata": {
        "colab": {
          "base_uri": "https://localhost:8080/"
        },
        "id": "gQ78iWlP8UQU",
        "outputId": "888dd3af-0721-4697-9248-a1960f992abf"
      },
      "execution_count": null,
      "outputs": [
        {
          "output_type": "execute_result",
          "data": {
            "text/plain": [
              "array([[-0.0003,  0.001 ,  0.    ,  0.    ],\n",
              "       [ 0.001 , -0.0012,  0.0002,  0.    ],\n",
              "       [ 0.    ,  0.002 , -0.0021,  0.0001],\n",
              "       [ 0.    ,  0.    ,  0.003 , -0.003 ]])"
            ]
          },
          "metadata": {},
          "execution_count": 80
        }
      ]
    },
    {
      "cell_type": "code",
      "source": [
        "eval, evec = sla.eigs(M.T, k=1, which='LM')"
      ],
      "metadata": {
        "id": "Rxk1oZK78-tq"
      },
      "execution_count": null,
      "outputs": []
    },
    {
      "cell_type": "code",
      "source": [
        "eval"
      ],
      "metadata": {
        "colab": {
          "base_uri": "https://localhost:8080/"
        },
        "id": "hjmNf8JU9DjJ",
        "outputId": "7b152f07-0468-4533-8b96-58c70e0f624e"
      },
      "execution_count": null,
      "outputs": [
        {
          "output_type": "execute_result",
          "data": {
            "text/plain": [
              "array([-0.00330442+0.j])"
            ]
          },
          "metadata": {},
          "execution_count": 6
        }
      ]
    },
    {
      "cell_type": "code",
      "source": [
        "evec"
      ],
      "metadata": {
        "colab": {
          "base_uri": "https://localhost:8080/"
        },
        "id": "TPA5g-6K9IYK",
        "outputId": "23ef478f-391c-4bb1-f98e-68fc1e02e261"
      },
      "execution_count": null,
      "outputs": [
        {
          "output_type": "execute_result",
          "data": {
            "text/plain": [
              "array([[ 0.19610495+0.j],\n",
              "       [-0.70684465+0.j],\n",
              "       [ 0.6456966 +0.j],\n",
              "       [-0.21210703+0.j]])"
            ]
          },
          "metadata": {},
          "execution_count": 7
        }
      ]
    },
    {
      "cell_type": "code",
      "source": [
        "np.dot(evec.T, M).T"
      ],
      "metadata": {
        "colab": {
          "base_uri": "https://localhost:8080/"
        },
        "id": "W-uVrsYd9JTO",
        "outputId": "bfdec921-3970-44ba-a98d-2094357c1796"
      },
      "execution_count": null,
      "outputs": [
        {
          "output_type": "execute_result",
          "data": {
            "text/plain": [
              "array([[-0.00064801+0.j],\n",
              "       [ 0.00233571+0.j],\n",
              "       [-0.00213365+0.j],\n",
              "       [ 0.00070089+0.j]])"
            ]
          },
          "metadata": {},
          "execution_count": 8
        }
      ]
    },
    {
      "cell_type": "code",
      "source": [
        "u = (evec/evec.sum()).real\n",
        "u"
      ],
      "metadata": {
        "colab": {
          "base_uri": "https://localhost:8080/"
        },
        "id": "Cp434k2v9Oi3",
        "outputId": "21306bff-2830-4fb2-abbc-0f5e7de56d79"
      },
      "execution_count": null,
      "outputs": [
        {
          "output_type": "execute_result",
          "data": {
            "text/plain": [
              "array([[-2.54186168],\n",
              "       [ 9.16193753],\n",
              "       [-8.36935228],\n",
              "       [ 2.74927643]])"
            ]
          },
          "metadata": {},
          "execution_count": 9
        }
      ]
    },
    {
      "cell_type": "code",
      "source": [
        "ar = np.dot(u.T, M).T\n",
        "ar"
      ],
      "metadata": {
        "colab": {
          "base_uri": "https://localhost:8080/"
        },
        "id": "U-C3Nf7R9PDS",
        "outputId": "92e118fb-4337-4e9a-8b27-a5d42b25dd5d"
      },
      "execution_count": null,
      "outputs": [
        {
          "output_type": "execute_result",
          "data": {
            "text/plain": [
              "array([[  6.46106079],\n",
              "       [-23.2883779 ],\n",
              "       [ 21.27373582],\n",
              "       [ -6.98828039]])"
            ]
          },
          "metadata": {},
          "execution_count": 37
        }
      ]
    },
    {
      "cell_type": "code",
      "source": [
        "M[M < 0] = 0\n",
        "M"
      ],
      "metadata": {
        "colab": {
          "base_uri": "https://localhost:8080/"
        },
        "id": "iP1ZyrhqJBVl",
        "outputId": "8dc47de0-ff63-469b-c8c7-04fd76d83bcc"
      },
      "execution_count": null,
      "outputs": [
        {
          "output_type": "execute_result",
          "data": {
            "text/plain": [
              "array([[0.    , 0.001 , 0.    , 0.    ],\n",
              "       [0.001 , 0.    , 0.0002, 0.    ],\n",
              "       [0.    , 0.002 , 0.    , 0.0001],\n",
              "       [0.    , 0.    , 0.003 , 0.    ]])"
            ]
          },
          "metadata": {},
          "execution_count": 76
        }
      ]
    },
    {
      "cell_type": "code",
      "source": [
        "fig = plt.figure()\n",
        "ax = fig.add_axes([0,0,1,1])\n",
        "states = ['Up', 'Failed', 'Degraded', 'Critical']\n",
        "probabilities = pi/N\n",
        "ax.bar(states,probabilities, width = 0.30)\n",
        "ax.set_xlabel(\"State\")\n",
        "ax.set_ylabel(\"Probability\")\n",
        "plt.legend(loc=\"upper right\")\n",
        "plt.show()"
      ],
      "metadata": {
        "id": "GM4EZtU77Qw2"
      },
      "execution_count": null,
      "outputs": []
    },
    {
      "cell_type": "code",
      "source": [
        "# M /= M.sum()\n",
        "M = np.asarray(M).astype('float64')\n",
        "[M = x / np.sum(M) for x in M]"
      ],
      "metadata": {
        "id": "vehLI93tMY9k"
      },
      "execution_count": null,
      "outputs": []
    },
    {
      "cell_type": "code",
      "source": [
        "N = 10**5\n",
        "init = 0\n",
        "present = init\n",
        "pi = np.array([0, 0, 0, 0])\n",
        "pi[init] = 1\n",
        "\n",
        "i = 0\n",
        "for i in range(N):\n",
        "    # sum(M[present])\n",
        "    # M[-1] = 1 - np.sum(M[0:-1])\n",
        "    s = sum(M)\n",
        "    [M = x / np.sum(M) for x in M]\n",
        "    present = np.random.choice([0,1,2,3], p= M[present])\n",
        "    pi[present]+=1\n",
        "    past = present\n",
        "#     if M.sum()!= 1.0:\n",
        "#         M = M*(1./M.sum())\n",
        "# return M\n",
        "\n",
        "\n",
        "π = print(\"π= \", pi/N)"
      ],
      "metadata": {
        "id": "zSoX-uXY9SdZ"
      },
      "execution_count": null,
      "outputs": []
    },
    {
      "cell_type": "code",
      "source": [
        "#@title\n",
        "N = 10**5\n",
        "init = 0\n",
        "present = init\n",
        "pi = np.array([0, 0, 0, 0])\n",
        "pi[init] = 1\n",
        "\n",
        "i = 0\n",
        "for i in range(N):\n",
        "    present = np.random.choice([1,2,3,4], p=M[present], replace = False)\n",
        "    pi[present]+=1\n",
        "    past = present\n",
        "\n",
        "π = print(\"π= \", pi/N)"
      ],
      "metadata": {
        "id": "IJ0f8VtmLZOZ",
        "cellView": "form"
      },
      "execution_count": null,
      "outputs": []
    },
    {
      "cell_type": "code",
      "source": [
        "choices = [0,1,2,3]\n",
        "weights = np.array([0,1,2,3])\n",
        "normalized_weights = weights / np.sum(weights)\n",
        "\n",
        "number_of_choices = 20\n",
        "resample_counts = np.random.multinomial(number_of_choices,\n",
        "                                        normalized_weights)\n",
        "\n",
        "chosen = []\n",
        "resample_index = 0\n",
        "for resample_count in resample_counts:\n",
        "    for _ in range(resample_count):\n",
        "        chosen.append(choices[resample_index])\n",
        "    resample_index += 1"
      ],
      "metadata": {
        "id": "04ZXf1T4PIit"
      },
      "execution_count": null,
      "outputs": []
    }
  ]
}